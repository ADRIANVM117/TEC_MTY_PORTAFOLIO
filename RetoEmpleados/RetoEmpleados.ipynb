{
 "cells": [
  {
   "cell_type": "markdown",
   "metadata": {},
   "source": [
    "# Reto Empleados \n",
    "## <b> Objetivo  </b>\n",
    "1. <b> Evaluar:   </b> las características de un conjunto de datos con el fin de ver si son suficientes para la actividad en la que serán usados. \n",
    "2. <b> Crear: </b> nuevas características a partir de las existentes, que logren proporcionar una mayor información para la actividad en la que se usarán. \n",
    "3. <b> Eliminar: </b> las características que sean irrelevantes para el uso que se le dará al conjunto de datos.\n"
   ]
  },
  {
   "cell_type": "markdown",
   "metadata": {},
   "source": [
    "## Bibliotecas  "
   ]
  },
  {
   "cell_type": "code",
   "execution_count": 6,
   "metadata": {},
   "outputs": [],
   "source": [
    "import pandas as pd \n",
    "import numpy as np \n",
    "import seaborn as sns \n",
    "import matplotlib.pyplot as plt \n",
    "import scipy as stats "
   ]
  },
  {
   "cell_type": "markdown",
   "metadata": {},
   "source": [
    "## Leer archivo csv "
   ]
  },
  {
   "cell_type": "code",
   "execution_count": 7,
   "metadata": {},
   "outputs": [
    {
     "data": {
      "text/html": [
       "<div>\n",
       "<style scoped>\n",
       "    .dataframe tbody tr th:only-of-type {\n",
       "        vertical-align: middle;\n",
       "    }\n",
       "\n",
       "    .dataframe tbody tr th {\n",
       "        vertical-align: top;\n",
       "    }\n",
       "\n",
       "    .dataframe thead th {\n",
       "        text-align: right;\n",
       "    }\n",
       "</style>\n",
       "<table border=\"1\" class=\"dataframe\">\n",
       "  <thead>\n",
       "    <tr style=\"text-align: right;\">\n",
       "      <th></th>\n",
       "      <th>Age</th>\n",
       "      <th>BusinessTravel</th>\n",
       "      <th>Department</th>\n",
       "      <th>DistanceFromHome</th>\n",
       "      <th>Education</th>\n",
       "      <th>EducationField</th>\n",
       "      <th>EmployeeCount</th>\n",
       "      <th>EmployeeNumber</th>\n",
       "      <th>EnvironmentSatisfaction</th>\n",
       "      <th>Gender</th>\n",
       "      <th>...</th>\n",
       "      <th>PercentSalaryHike</th>\n",
       "      <th>PerformanceRating</th>\n",
       "      <th>RelationshipSatisfaction</th>\n",
       "      <th>StandardHours</th>\n",
       "      <th>TotalWorkingYears</th>\n",
       "      <th>TrainingTimesLastYear</th>\n",
       "      <th>WorkLifeBalance</th>\n",
       "      <th>YearsInCurrentRole</th>\n",
       "      <th>YearsSinceLastPromotion</th>\n",
       "      <th>Attrition</th>\n",
       "    </tr>\n",
       "  </thead>\n",
       "  <tbody>\n",
       "    <tr>\n",
       "      <th>0</th>\n",
       "      <td>50</td>\n",
       "      <td>Travel_Rarely</td>\n",
       "      <td>Research &amp; Development</td>\n",
       "      <td>1 km</td>\n",
       "      <td>2</td>\n",
       "      <td>Medical</td>\n",
       "      <td>1</td>\n",
       "      <td>997</td>\n",
       "      <td>4</td>\n",
       "      <td>Male</td>\n",
       "      <td>...</td>\n",
       "      <td>22</td>\n",
       "      <td>4</td>\n",
       "      <td>3</td>\n",
       "      <td>80</td>\n",
       "      <td>32</td>\n",
       "      <td>1</td>\n",
       "      <td>2</td>\n",
       "      <td>4</td>\n",
       "      <td>1</td>\n",
       "      <td>No</td>\n",
       "    </tr>\n",
       "    <tr>\n",
       "      <th>1</th>\n",
       "      <td>36</td>\n",
       "      <td>Travel_Rarely</td>\n",
       "      <td>Research &amp; Development</td>\n",
       "      <td>6 km</td>\n",
       "      <td>2</td>\n",
       "      <td>Medical</td>\n",
       "      <td>1</td>\n",
       "      <td>178</td>\n",
       "      <td>2</td>\n",
       "      <td>Male</td>\n",
       "      <td>...</td>\n",
       "      <td>20</td>\n",
       "      <td>4</td>\n",
       "      <td>4</td>\n",
       "      <td>80</td>\n",
       "      <td>7</td>\n",
       "      <td>0</td>\n",
       "      <td>3</td>\n",
       "      <td>2</td>\n",
       "      <td>0</td>\n",
       "      <td>No</td>\n",
       "    </tr>\n",
       "    <tr>\n",
       "      <th>2</th>\n",
       "      <td>21</td>\n",
       "      <td>Travel_Rarely</td>\n",
       "      <td>Sales</td>\n",
       "      <td>7 km</td>\n",
       "      <td>1</td>\n",
       "      <td>Marketing</td>\n",
       "      <td>1</td>\n",
       "      <td>1780</td>\n",
       "      <td>2</td>\n",
       "      <td>Male</td>\n",
       "      <td>...</td>\n",
       "      <td>13</td>\n",
       "      <td>3</td>\n",
       "      <td>2</td>\n",
       "      <td>80</td>\n",
       "      <td>1</td>\n",
       "      <td>3</td>\n",
       "      <td>3</td>\n",
       "      <td>0</td>\n",
       "      <td>1</td>\n",
       "      <td>Yes</td>\n",
       "    </tr>\n",
       "    <tr>\n",
       "      <th>3</th>\n",
       "      <td>52</td>\n",
       "      <td>Travel_Rarely</td>\n",
       "      <td>Research &amp; Development</td>\n",
       "      <td>7 km</td>\n",
       "      <td>4</td>\n",
       "      <td>Life Sciences</td>\n",
       "      <td>1</td>\n",
       "      <td>1118</td>\n",
       "      <td>2</td>\n",
       "      <td>Male</td>\n",
       "      <td>...</td>\n",
       "      <td>19</td>\n",
       "      <td>3</td>\n",
       "      <td>4</td>\n",
       "      <td>80</td>\n",
       "      <td>18</td>\n",
       "      <td>4</td>\n",
       "      <td>3</td>\n",
       "      <td>6</td>\n",
       "      <td>4</td>\n",
       "      <td>No</td>\n",
       "    </tr>\n",
       "    <tr>\n",
       "      <th>4</th>\n",
       "      <td>33</td>\n",
       "      <td>Travel_Rarely</td>\n",
       "      <td>Research &amp; Development</td>\n",
       "      <td>15 km</td>\n",
       "      <td>1</td>\n",
       "      <td>Medical</td>\n",
       "      <td>1</td>\n",
       "      <td>582</td>\n",
       "      <td>2</td>\n",
       "      <td>Male</td>\n",
       "      <td>...</td>\n",
       "      <td>12</td>\n",
       "      <td>3</td>\n",
       "      <td>4</td>\n",
       "      <td>80</td>\n",
       "      <td>15</td>\n",
       "      <td>2</td>\n",
       "      <td>4</td>\n",
       "      <td>6</td>\n",
       "      <td>7</td>\n",
       "      <td>Yes</td>\n",
       "    </tr>\n",
       "  </tbody>\n",
       "</table>\n",
       "<p>5 rows × 30 columns</p>\n",
       "</div>"
      ],
      "text/plain": [
       "   Age BusinessTravel              Department DistanceFromHome  Education  \\\n",
       "0   50  Travel_Rarely  Research & Development             1 km          2   \n",
       "1   36  Travel_Rarely  Research & Development             6 km          2   \n",
       "2   21  Travel_Rarely                   Sales             7 km          1   \n",
       "3   52  Travel_Rarely  Research & Development             7 km          4   \n",
       "4   33  Travel_Rarely  Research & Development            15 km          1   \n",
       "\n",
       "  EducationField  EmployeeCount  EmployeeNumber  EnvironmentSatisfaction  \\\n",
       "0        Medical              1             997                        4   \n",
       "1        Medical              1             178                        2   \n",
       "2      Marketing              1            1780                        2   \n",
       "3  Life Sciences              1            1118                        2   \n",
       "4        Medical              1             582                        2   \n",
       "\n",
       "  Gender  ...  PercentSalaryHike  PerformanceRating RelationshipSatisfaction  \\\n",
       "0   Male  ...                 22                  4                        3   \n",
       "1   Male  ...                 20                  4                        4   \n",
       "2   Male  ...                 13                  3                        2   \n",
       "3   Male  ...                 19                  3                        4   \n",
       "4   Male  ...                 12                  3                        4   \n",
       "\n",
       "   StandardHours TotalWorkingYears  TrainingTimesLastYear  WorkLifeBalance  \\\n",
       "0             80                32                      1                2   \n",
       "1             80                 7                      0                3   \n",
       "2             80                 1                      3                3   \n",
       "3             80                18                      4                3   \n",
       "4             80                15                      2                4   \n",
       "\n",
       "  YearsInCurrentRole YearsSinceLastPromotion Attrition  \n",
       "0                  4                       1        No  \n",
       "1                  2                       0        No  \n",
       "2                  0                       1       Yes  \n",
       "3                  6                       4        No  \n",
       "4                  6                       7       Yes  \n",
       "\n",
       "[5 rows x 30 columns]"
      ]
     },
     "execution_count": 7,
     "metadata": {},
     "output_type": "execute_result"
    }
   ],
   "source": [
    "EmpleadosAttrition = pd.read_csv('EmpleadosRETO.csv')\n",
    "EmpleadosAttrition.head()"
   ]
  },
  {
   "cell_type": "markdown",
   "metadata": {},
   "source": [
    "## <b> EDA sobre `EmpleadosAttrition` </b>\n",
    "\n",
    "### <b> Objetivo: </b> : Eliminar las columna que con alta probabilidad (Estimada por mi) no tienen relación alguna con la salida \n",
    "\n",
    "1. Dentro de las instrucciones se mencionan que hay columnas que no aportan absolutamente nada a definir el desgaste de un empleado: Esas son las primeras que eliminaremos: \n",
    "\n",
    "  - `EmployeeCount`: número de empleados, todos tienen un 1\n",
    "  - `EmployeeNumber`: ID del empleado, el cual es único para cada empleado\n",
    "  - `Over18 `: mayores de edad, todos dicen “Y”\n",
    "  -\t`StandardHours`: horas de trabajo, todos tienen “80”\n"
   ]
  },
  {
   "cell_type": "code",
   "execution_count": 8,
   "metadata": {},
   "outputs": [],
   "source": [
    "# Eliminar columnas de EmpleadosAttriation \n",
    "EmpleadosAttrition.drop([ 'EmployeeCount', 'EmployeeNumber', 'Over18', 'StandardHours'], axis = 1, inplace= True)"
   ]
  },
  {
   "attachments": {
    "image.png": {
     "image/png": "[encoded data removed]"
    }
   },
   "cell_type": "markdown",
   "metadata": {},
   "source": [
    "![image.png](attachment:image.png)"
   ]
  },
  {
   "cell_type": "markdown",
   "metadata": {},
   "source": [
    "### Calcular la correlación entre las caracteristicas y la columna objetivo `EmpleadosAttrition`"
   ]
  },
  {
   "cell_type": "code",
   "execution_count": null,
   "metadata": {},
   "outputs": [],
   "source": []
  },
  {
   "cell_type": "markdown",
   "metadata": {},
   "source": [
    "### Años que el empleado lleva en la compañia\n",
    "- Calcular con la fecha de contratación: `HiringDate`. A partir de ella extraer el año de contratación y crear una columna `Year` donde guardarlo\n",
    "- Crear una columna `YearsAtCompany`: Contiene los años que el empleado lleva en la compañia hasta el año 2018 : Resta entre `Year ` - 2018 "
   ]
  },
  {
   "cell_type": "code",
   "execution_count": 9,
   "metadata": {},
   "outputs": [
    {
     "data": {
      "text/plain": [
       "0      06/06/2013\n",
       "1      12/25/2015\n",
       "2       2/14/2017\n",
       "3       7/29/2010\n",
       "4      10/07/2011\n",
       "          ...    \n",
       "395    05/09/2013\n",
       "396    04/02/2016\n",
       "397     1/21/2008\n",
       "398     8/27/2018\n",
       "399    02/08/2010\n",
       "Name: HiringDate, Length: 400, dtype: object"
      ]
     },
     "execution_count": 9,
     "metadata": {},
     "output_type": "execute_result"
    }
   ],
   "source": [
    "EmpleadosAttrition['HiringDate']"
   ]
  },
  {
   "cell_type": "code",
   "execution_count": 10,
   "metadata": {},
   "outputs": [
    {
     "data": {
      "text/html": [
       "<div>\n",
       "<style scoped>\n",
       "    .dataframe tbody tr th:only-of-type {\n",
       "        vertical-align: middle;\n",
       "    }\n",
       "\n",
       "    .dataframe tbody tr th {\n",
       "        vertical-align: top;\n",
       "    }\n",
       "\n",
       "    .dataframe thead th {\n",
       "        text-align: right;\n",
       "    }\n",
       "</style>\n",
       "<table border=\"1\" class=\"dataframe\">\n",
       "  <thead>\n",
       "    <tr style=\"text-align: right;\">\n",
       "      <th></th>\n",
       "      <th>YearsAtCompany</th>\n",
       "    </tr>\n",
       "  </thead>\n",
       "  <tbody>\n",
       "    <tr>\n",
       "      <th>0</th>\n",
       "      <td>5</td>\n",
       "    </tr>\n",
       "    <tr>\n",
       "      <th>1</th>\n",
       "      <td>3</td>\n",
       "    </tr>\n",
       "    <tr>\n",
       "      <th>2</th>\n",
       "      <td>1</td>\n",
       "    </tr>\n",
       "    <tr>\n",
       "      <th>3</th>\n",
       "      <td>8</td>\n",
       "    </tr>\n",
       "    <tr>\n",
       "      <th>4</th>\n",
       "      <td>7</td>\n",
       "    </tr>\n",
       "    <tr>\n",
       "      <th>...</th>\n",
       "      <td>...</td>\n",
       "    </tr>\n",
       "    <tr>\n",
       "      <th>395</th>\n",
       "      <td>5</td>\n",
       "    </tr>\n",
       "    <tr>\n",
       "      <th>396</th>\n",
       "      <td>2</td>\n",
       "    </tr>\n",
       "    <tr>\n",
       "      <th>397</th>\n",
       "      <td>10</td>\n",
       "    </tr>\n",
       "    <tr>\n",
       "      <th>398</th>\n",
       "      <td>0</td>\n",
       "    </tr>\n",
       "    <tr>\n",
       "      <th>399</th>\n",
       "      <td>8</td>\n",
       "    </tr>\n",
       "  </tbody>\n",
       "</table>\n",
       "<p>400 rows × 1 columns</p>\n",
       "</div>"
      ],
      "text/plain": [
       "     YearsAtCompany\n",
       "0                 5\n",
       "1                 3\n",
       "2                 1\n",
       "3                 8\n",
       "4                 7\n",
       "..              ...\n",
       "395               5\n",
       "396               2\n",
       "397              10\n",
       "398               0\n",
       "399               8\n",
       "\n",
       "[400 rows x 1 columns]"
      ]
     },
     "execution_count": 10,
     "metadata": {},
     "output_type": "execute_result"
    }
   ],
   "source": [
    "# convertir HiringDate en datetime \n",
    "EmpleadosAttrition['HiringDate'] = pd.to_datetime(EmpleadosAttrition['HiringDate'], errors = 'coerce') \n",
    "# Extraer el año y agregarlo en la nuerva columna 'Year'\n",
    "EmpleadosAttrition['Year'] = EmpleadosAttrition['HiringDate'].dt.year\n",
    "# Columna YearsAtCompany: Los años que lleva en la compañia \n",
    "EmpleadosAttrition['YearsAtCompany'] = 2018 - EmpleadosAttrition['Year']\n",
    "# transfomormarlo a int \n",
    "EmpleadosAttrition['YearsAtCompany'] =  EmpleadosAttrition['YearsAtCompany'].fillna(0).astype(int)\n",
    "EmpleadosAttrition[['YearsAtCompany']]"
   ]
  },
  {
   "cell_type": "markdown",
   "metadata": {},
   "source": [
    "###  Crear la variable `DistanceFromHome`: Proviene de `DistanceFromHome_KM` y es una variable entera  \n"
   ]
  },
  {
   "cell_type": "code",
   "execution_count": 11,
   "metadata": {},
   "outputs": [
    {
     "data": {
      "text/plain": [
       "0       1\n",
       "1       6\n",
       "2       7\n",
       "3       7\n",
       "4      15\n",
       "       ..\n",
       "395    14\n",
       "396    20\n",
       "397    11\n",
       "398     4\n",
       "399    14\n",
       "Name: DistanceFromHome, Length: 400, dtype: int32"
      ]
     },
     "execution_count": 11,
     "metadata": {},
     "output_type": "execute_result"
    }
   ],
   "source": [
    "# Renombrar DistanceFromHome a DistanceFromHome_KM\n",
    "EmpleadosAttrition = EmpleadosAttrition.rename(columns = {'DistanceFromHome': 'DistanceFromHome_km'})\n",
    "# Nueva variable DistanceFromHome sin 'KM' y tipo entero \n",
    "EmpleadosAttrition['DistanceFromHome'] = EmpleadosAttrition['DistanceFromHome_km'].str.replace('km', '', regex= False).astype(int)\n",
    "EmpleadosAttrition['DistanceFromHome']\n",
    "                                             "
   ]
  },
  {
   "cell_type": "markdown",
   "metadata": {},
   "source": [
    "### <b> Borrar </b> las columnas `Year`, `HiringDate` y `DistanceFromHome_km` debido a que ya no son útiles. "
   ]
  },
  {
   "cell_type": "code",
   "execution_count": 12,
   "metadata": {},
   "outputs": [],
   "source": [
    "EmpleadosAttrition.drop(['Year', 'HiringDate' , 'DistanceFromHome_km' ], axis = 1 , inplace = True)"
   ]
  },
  {
   "cell_type": "markdown",
   "metadata": {},
   "source": [
    "### Nuevo DataFrame  `SueldoPromedioDepto` que contenga el `MonthlyIncome` promedio por departamento `Department` de los empleados y colocarlo en una variable llamada `SueldoPromedio`  "
   ]
  },
  {
   "cell_type": "code",
   "execution_count": 14,
   "metadata": {},
   "outputs": [
    {
     "data": {
      "text/html": [
       "<div>\n",
       "<style scoped>\n",
       "    .dataframe tbody tr th:only-of-type {\n",
       "        vertical-align: middle;\n",
       "    }\n",
       "\n",
       "    .dataframe tbody tr th {\n",
       "        vertical-align: top;\n",
       "    }\n",
       "\n",
       "    .dataframe thead th {\n",
       "        text-align: right;\n",
       "    }\n",
       "</style>\n",
       "<table border=\"1\" class=\"dataframe\">\n",
       "  <thead>\n",
       "    <tr style=\"text-align: right;\">\n",
       "      <th></th>\n",
       "      <th>Department</th>\n",
       "      <th>SueldoPromedio</th>\n",
       "    </tr>\n",
       "  </thead>\n",
       "  <tbody>\n",
       "    <tr>\n",
       "      <th>0</th>\n",
       "      <td>Human Resources</td>\n",
       "      <td>6239.888889</td>\n",
       "    </tr>\n",
       "    <tr>\n",
       "      <th>1</th>\n",
       "      <td>Research &amp; Development</td>\n",
       "      <td>6804.149813</td>\n",
       "    </tr>\n",
       "    <tr>\n",
       "      <th>2</th>\n",
       "      <td>Sales</td>\n",
       "      <td>7188.250000</td>\n",
       "    </tr>\n",
       "  </tbody>\n",
       "</table>\n",
       "</div>"
      ],
      "text/plain": [
       "               Department  SueldoPromedio\n",
       "0         Human Resources     6239.888889\n",
       "1  Research & Development     6804.149813\n",
       "2                   Sales     7188.250000"
      ]
     },
     "execution_count": 14,
     "metadata": {},
     "output_type": "execute_result"
    }
   ],
   "source": [
    "# Nuevo DF con el MonthlyIncome promedio por departamento\n",
    "SueldoPromedioDepto = EmpleadosAttrition.groupby('Department', as_index = False)['MonthlyIncome'].mean()\n",
    "# cambiar el nombre a la columna \n",
    "SueldoPromedioDepto.rename(columns = {'MonthlyIncome' : 'SueldoPromedio'}, inplace= True)\n",
    "SueldoPromedioDepto.head()"
   ]
  },
  {
   "cell_type": "markdown",
   "metadata": {},
   "source": [
    "### Dentro de `EmpleadosAttrition` escalar la variable `MonthlyIncome` para que tenga valores entre 0 y 1 \n",
    "\n",
    "#### <b> ¿Que metodo de escalado usar?  </b>\n",
    "\n",
    "# Métodos de Escalado y Cuándo Usarlos\n",
    "\n",
    "| **Método**             | **Fórmula**                                      | **Cuándo Usarlo**                                                             | **Sensible a Outliers** |\n",
    "|------------------------|--------------------------------------------------|-------------------------------------------------------------------------------|-------------------------|\n",
    "| **Min-Max Scaling**    | \\( X' = \\frac{X - X_{\\min}}{X_{\\max} - X_{\\min}} \\)  | Útil cuando los datos tienen rangos bien definidos o distribuciones uniformes. Funciona bien en redes neuronales. | ✅ Sí |\n",
    "| **StandardScaler (Z-Score)** | \\( X' = \\frac{X - \\mu}{\\sigma} \\) | Ideal si la variable sigue una distribución normal o para modelos como regresión y PCA. | ❌ No |\n",
    "| **RobustScaler**       | \\( X' = \\frac{X - \\text{mediana}(X)}{\\text{IQR}(X)} \\) | Para datos con outliers, ya que usa la mediana en lugar de la media. | ❌ No |\n",
    "| **Log Transform**      | \\( X' = \\log(X) \\) | Cuando los datos tienen colas largas o distribuciones sesgadas (e.g., ingresos, precios de casas). | ❌ No |\n",
    "\n",
    "## ¿Cómo Decidir?\n",
    "- **Si los datos siguen una distribución normal** → Usa **StandardScaler**.\n",
    "- **Si los datos están entre un rango fijo** (ejemplo: [0, 100]) → Usa **MinMaxScaler**.\n",
    "- **Si hay outliers** → Usa **RobustScaler** o **log transform**.\n",
    "- **Si usas un modelo basado en distancias** (KNN, SVM, PCA) → **Escalar es obligatorio**.\n",
    "- **Si usas redes neuronales** → **MinMaxScaler** en el rango [0,1] o [-1,1] suele funcionar mejor.\n"
   ]
  },
  {
   "cell_type": "code",
   "execution_count": 16,
   "metadata": {
    "vscode": {
     "languageId": "latex"
    }
   },
   "outputs": [],
   "source": [
    "# x_2"
   ]
  },
  {
   "cell_type": "markdown",
   "metadata": {},
   "source": []
  }
 ],
 "metadata": {
  "kernelspec": {
   "display_name": "mpyst",
   "language": "python",
   "name": "python3"
  },
  "language_info": {
   "codemirror_mode": {
    "name": "ipython",
    "version": 3
   },
   "file_extension": ".py",
   "mimetype": "text/x-python",
   "name": "python",
   "nbconvert_exporter": "python",
   "pygments_lexer": "ipython3",
   "version": "3.8.18"
  }
 },
 "nbformat": 4,
 "nbformat_minor": 2
}
